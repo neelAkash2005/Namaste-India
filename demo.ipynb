{
 "cells": [
  {
   "cell_type": "code",
   "execution_count": 1,
   "id": "6575479b",
   "metadata": {},
   "outputs": [],
   "source": [
    "import numpy as np\n",
    "import pandas as pd\n",
    "import matplotlib.pyplot as plt\n",
    "import seaborn as sns"
   ]
  },
  {
   "cell_type": "code",
   "execution_count": 2,
   "id": "79a85288",
   "metadata": {},
   "outputs": [],
   "source": [
    "df1 = pd.read_csv('City.csv')"
   ]
  },
  {
   "cell_type": "code",
   "execution_count": 3,
   "id": "8be4cfd0",
   "metadata": {},
   "outputs": [
    {
     "data": {
      "text/html": [
       "<div>\n",
       "<style scoped>\n",
       "    .dataframe tbody tr th:only-of-type {\n",
       "        vertical-align: middle;\n",
       "    }\n",
       "\n",
       "    .dataframe tbody tr th {\n",
       "        vertical-align: top;\n",
       "    }\n",
       "\n",
       "    .dataframe thead th {\n",
       "        text-align: right;\n",
       "    }\n",
       "</style>\n",
       "<table border=\"1\" class=\"dataframe\">\n",
       "  <thead>\n",
       "    <tr style=\"text-align: right;\">\n",
       "      <th></th>\n",
       "      <th>City</th>\n",
       "      <th>Ratings</th>\n",
       "      <th>Ideal_duration</th>\n",
       "      <th>Best_time_to_visit</th>\n",
       "      <th>City_desc</th>\n",
       "    </tr>\n",
       "  </thead>\n",
       "  <tbody>\n",
       "    <tr>\n",
       "      <th>0</th>\n",
       "      <td>Manali</td>\n",
       "      <td>4.5</td>\n",
       "      <td>2-4</td>\n",
       "      <td>October-June</td>\n",
       "      <td>[' One of the most popular hill stations in Hi...</td>\n",
       "    </tr>\n",
       "    <tr>\n",
       "      <th>1</th>\n",
       "      <td>Leh Ladakh</td>\n",
       "      <td>4.6</td>\n",
       "      <td>5-7</td>\n",
       "      <td>JulyOctober</td>\n",
       "      <td>[\" Ladakh is a union territory in the Kashmir ...</td>\n",
       "    </tr>\n",
       "    <tr>\n",
       "      <th>2</th>\n",
       "      <td>Coorg</td>\n",
       "      <td>4.2</td>\n",
       "      <td>2-3</td>\n",
       "      <td>September-June</td>\n",
       "      <td>[' Located amidst imposing mountains in Karnat...</td>\n",
       "    </tr>\n",
       "    <tr>\n",
       "      <th>3</th>\n",
       "      <td>Andaman</td>\n",
       "      <td>4.5</td>\n",
       "      <td>4-6</td>\n",
       "      <td>October-March</td>\n",
       "      <td>[' Replete with turquoise blue water beaches a...</td>\n",
       "    </tr>\n",
       "    <tr>\n",
       "      <th>4</th>\n",
       "      <td>Lakshadweep</td>\n",
       "      <td>4.0</td>\n",
       "      <td>4-6</td>\n",
       "      <td>September-February</td>\n",
       "      <td>[\" Formerly known as Laccadive Islands, Laksha...</td>\n",
       "    </tr>\n",
       "  </tbody>\n",
       "</table>\n",
       "</div>"
      ],
      "text/plain": [
       "          City  Ratings Ideal_duration  Best_time_to_visit  \\\n",
       "0       Manali      4.5            2-4        October-June   \n",
       "1   Leh Ladakh      4.6            5-7         JulyOctober   \n",
       "2        Coorg      4.2            2-3      September-June   \n",
       "3      Andaman      4.5            4-6       October-March   \n",
       "4  Lakshadweep      4.0            4-6  September-February   \n",
       "\n",
       "                                           City_desc  \n",
       "0  [' One of the most popular hill stations in Hi...  \n",
       "1  [\" Ladakh is a union territory in the Kashmir ...  \n",
       "2  [' Located amidst imposing mountains in Karnat...  \n",
       "3  [' Replete with turquoise blue water beaches a...  \n",
       "4  [\" Formerly known as Laccadive Islands, Laksha...  "
      ]
     },
     "execution_count": 3,
     "metadata": {},
     "output_type": "execute_result"
    }
   ],
   "source": [
    "df1.head()"
   ]
  },
  {
   "cell_type": "code",
   "execution_count": 4,
   "id": "f2c69e94",
   "metadata": {},
   "outputs": [
    {
     "data": {
      "text/plain": [
       "'[\\' One of the most popular hill stations in Himachal, Manali offers the most magnificent views of the Pir Panjal and the Dhauladhar ranges covered with snow for most parts of the year. \\', \\'\\', \" With the Covid-19 pandemic going on, Manali has evolved to be a place loved by young people looking for longer stays for workation. With ambient cafes, good wifi availability, small eateries and convenient shops, Old Manali is among the favorite neighbourhood for such people. There are many homestays and hostels offering dorm beds for cheap for longer durations. Manali has many trekking options around it, making it a great base for exploring this side of Himalayas. River Beas provides great rafting options in the nearby town of Kullu. Adjoining Parvati river, lies the Parvati Valley with  Kasol, Manikaran, Tosh and small villages attracting travellers for longer stays. Atal Tunnel now allows travellers to reach Sissu within a few hours making Spiti way more accessible. It snows the most in the months of January & February followed by December and March. If you\\'re very lucky, you might find some snow in April. Tourists flock to Rohtang Pass & Solang valley for various adventure activities including skiing, paragliding, horse-riding & zorbing. Rohtang Pass is almost always covered with snow and can often get overcrowded and see traffic jams.\"]'"
      ]
     },
     "execution_count": 4,
     "metadata": {},
     "output_type": "execute_result"
    }
   ],
   "source": [
    "df1['City_desc'][0]"
   ]
  },
  {
   "cell_type": "code",
   "execution_count": 5,
   "id": "e88ca07e",
   "metadata": {},
   "outputs": [],
   "source": [
    "df2 = pd.read_csv('Places.csv')"
   ]
  },
  {
   "cell_type": "code",
   "execution_count": 6,
   "id": "bfe4d1d7",
   "metadata": {},
   "outputs": [
    {
     "data": {
      "text/html": [
       "<div>\n",
       "<style scoped>\n",
       "    .dataframe tbody tr th:only-of-type {\n",
       "        vertical-align: middle;\n",
       "    }\n",
       "\n",
       "    .dataframe tbody tr th {\n",
       "        vertical-align: top;\n",
       "    }\n",
       "\n",
       "    .dataframe thead th {\n",
       "        text-align: right;\n",
       "    }\n",
       "</style>\n",
       "<table border=\"1\" class=\"dataframe\">\n",
       "  <thead>\n",
       "    <tr style=\"text-align: right;\">\n",
       "      <th></th>\n",
       "      <th>City</th>\n",
       "      <th>Place</th>\n",
       "      <th>Ratings</th>\n",
       "      <th>Distance</th>\n",
       "      <th>Place_desc</th>\n",
       "    </tr>\n",
       "  </thead>\n",
       "  <tbody>\n",
       "    <tr>\n",
       "      <th>0</th>\n",
       "      <td>Manali</td>\n",
       "      <td>1. Capture the Sceneries of Old Manali</td>\n",
       "      <td>3.9</td>\n",
       "      <td>2 km  from city center</td>\n",
       "      <td>On the other side of the Manalsu river is a p...</td>\n",
       "    </tr>\n",
       "    <tr>\n",
       "      <th>1</th>\n",
       "      <td>Manali</td>\n",
       "      <td>2. Engage in the Adventures of Solang Valley</td>\n",
       "      <td>4.6</td>\n",
       "      <td>8 km  from city center</td>\n",
       "      <td>Solang Valley is one of the most popular tour...</td>\n",
       "    </tr>\n",
       "    <tr>\n",
       "      <th>2</th>\n",
       "      <td>Manali</td>\n",
       "      <td>3. Jogini Waterfall</td>\n",
       "      <td>4.6</td>\n",
       "      <td>4 km  from city center</td>\n",
       "      <td>Jogini Waterfall is located about 3 kilometre...</td>\n",
       "    </tr>\n",
       "    <tr>\n",
       "      <th>3</th>\n",
       "      <td>Manali</td>\n",
       "      <td>4. Hadimba Temple</td>\n",
       "      <td>4.4</td>\n",
       "      <td>1 km  from city center</td>\n",
       "      <td>Hadimba temple, away from the hustle and bust...</td>\n",
       "    </tr>\n",
       "    <tr>\n",
       "      <th>4</th>\n",
       "      <td>Manali</td>\n",
       "      <td>5. Rohtang Pass</td>\n",
       "      <td>4.4</td>\n",
       "      <td>16 km  from city center</td>\n",
       "      <td>Rohtang pass is the stretch which connects Ma...</td>\n",
       "    </tr>\n",
       "  </tbody>\n",
       "</table>\n",
       "</div>"
      ],
      "text/plain": [
       "     City                                           Place  Ratings  \\\n",
       "0  Manali         1. Capture the Sceneries of Old Manali       3.9   \n",
       "1  Manali   2. Engage in the Adventures of Solang Valley       4.6   \n",
       "2  Manali                            3. Jogini Waterfall       4.6   \n",
       "3  Manali                              4. Hadimba Temple       4.4   \n",
       "4  Manali                                5. Rohtang Pass       4.4   \n",
       "\n",
       "                    Distance  \\\n",
       "0    2 km  from city center    \n",
       "1    8 km  from city center    \n",
       "2    4 km  from city center    \n",
       "3    1 km  from city center    \n",
       "4   16 km  from city center    \n",
       "\n",
       "                                          Place_desc  \n",
       "0   On the other side of the Manalsu river is a p...  \n",
       "1   Solang Valley is one of the most popular tour...  \n",
       "2   Jogini Waterfall is located about 3 kilometre...  \n",
       "3   Hadimba temple, away from the hustle and bust...  \n",
       "4   Rohtang pass is the stretch which connects Ma...  "
      ]
     },
     "execution_count": 6,
     "metadata": {},
     "output_type": "execute_result"
    }
   ],
   "source": [
    "df2.head()"
   ]
  },
  {
   "cell_type": "code",
   "execution_count": 7,
   "id": "0fb96cf6",
   "metadata": {},
   "outputs": [
    {
     "data": {
      "text/plain": [
       "City             0\n",
       "Place            0\n",
       "Ratings       1320\n",
       "Distance        16\n",
       "Place_desc       0\n",
       "dtype: int64"
      ]
     },
     "execution_count": 7,
     "metadata": {},
     "output_type": "execute_result"
    }
   ],
   "source": [
    "df2.isnull().sum()"
   ]
  },
  {
   "cell_type": "code",
   "execution_count": 8,
   "id": "80825309",
   "metadata": {},
   "outputs": [
    {
     "data": {
      "text/plain": [
       "(100, 5)"
      ]
     },
     "execution_count": 8,
     "metadata": {},
     "output_type": "execute_result"
    }
   ],
   "source": [
    "df1.shape"
   ]
  },
  {
   "cell_type": "code",
   "execution_count": 9,
   "id": "d42e7c51",
   "metadata": {},
   "outputs": [
    {
     "data": {
      "text/plain": [
       "(2989, 5)"
      ]
     },
     "execution_count": 9,
     "metadata": {},
     "output_type": "execute_result"
    }
   ],
   "source": [
    "df2.shape"
   ]
  },
  {
   "cell_type": "code",
   "execution_count": 10,
   "id": "9a131213",
   "metadata": {},
   "outputs": [],
   "source": [
    "df = df1.merge(df2, on='City')"
   ]
  },
  {
   "cell_type": "code",
   "execution_count": 11,
   "id": "efeb3720",
   "metadata": {},
   "outputs": [
    {
     "data": {
      "text/html": [
       "<div>\n",
       "<style scoped>\n",
       "    .dataframe tbody tr th:only-of-type {\n",
       "        vertical-align: middle;\n",
       "    }\n",
       "\n",
       "    .dataframe tbody tr th {\n",
       "        vertical-align: top;\n",
       "    }\n",
       "\n",
       "    .dataframe thead th {\n",
       "        text-align: right;\n",
       "    }\n",
       "</style>\n",
       "<table border=\"1\" class=\"dataframe\">\n",
       "  <thead>\n",
       "    <tr style=\"text-align: right;\">\n",
       "      <th></th>\n",
       "      <th>City</th>\n",
       "      <th>Ratings_x</th>\n",
       "      <th>Ideal_duration</th>\n",
       "      <th>Best_time_to_visit</th>\n",
       "      <th>City_desc</th>\n",
       "      <th>Place</th>\n",
       "      <th>Ratings_y</th>\n",
       "      <th>Distance</th>\n",
       "      <th>Place_desc</th>\n",
       "    </tr>\n",
       "  </thead>\n",
       "  <tbody>\n",
       "    <tr>\n",
       "      <th>0</th>\n",
       "      <td>Manali</td>\n",
       "      <td>4.5</td>\n",
       "      <td>2-4</td>\n",
       "      <td>October-June</td>\n",
       "      <td>[' One of the most popular hill stations in Hi...</td>\n",
       "      <td>1. Capture the Sceneries of Old Manali</td>\n",
       "      <td>3.9</td>\n",
       "      <td>2 km  from city center</td>\n",
       "      <td>On the other side of the Manalsu river is a p...</td>\n",
       "    </tr>\n",
       "    <tr>\n",
       "      <th>1</th>\n",
       "      <td>Manali</td>\n",
       "      <td>4.5</td>\n",
       "      <td>2-4</td>\n",
       "      <td>October-June</td>\n",
       "      <td>[' One of the most popular hill stations in Hi...</td>\n",
       "      <td>2. Engage in the Adventures of Solang Valley</td>\n",
       "      <td>4.6</td>\n",
       "      <td>8 km  from city center</td>\n",
       "      <td>Solang Valley is one of the most popular tour...</td>\n",
       "    </tr>\n",
       "    <tr>\n",
       "      <th>2</th>\n",
       "      <td>Manali</td>\n",
       "      <td>4.5</td>\n",
       "      <td>2-4</td>\n",
       "      <td>October-June</td>\n",
       "      <td>[' One of the most popular hill stations in Hi...</td>\n",
       "      <td>3. Jogini Waterfall</td>\n",
       "      <td>4.6</td>\n",
       "      <td>4 km  from city center</td>\n",
       "      <td>Jogini Waterfall is located about 3 kilometre...</td>\n",
       "    </tr>\n",
       "    <tr>\n",
       "      <th>3</th>\n",
       "      <td>Manali</td>\n",
       "      <td>4.5</td>\n",
       "      <td>2-4</td>\n",
       "      <td>October-June</td>\n",
       "      <td>[' One of the most popular hill stations in Hi...</td>\n",
       "      <td>4. Hadimba Temple</td>\n",
       "      <td>4.4</td>\n",
       "      <td>1 km  from city center</td>\n",
       "      <td>Hadimba temple, away from the hustle and bust...</td>\n",
       "    </tr>\n",
       "    <tr>\n",
       "      <th>4</th>\n",
       "      <td>Manali</td>\n",
       "      <td>4.5</td>\n",
       "      <td>2-4</td>\n",
       "      <td>October-June</td>\n",
       "      <td>[' One of the most popular hill stations in Hi...</td>\n",
       "      <td>5. Rohtang Pass</td>\n",
       "      <td>4.4</td>\n",
       "      <td>16 km  from city center</td>\n",
       "      <td>Rohtang pass is the stretch which connects Ma...</td>\n",
       "    </tr>\n",
       "  </tbody>\n",
       "</table>\n",
       "</div>"
      ],
      "text/plain": [
       "     City  Ratings_x Ideal_duration Best_time_to_visit  \\\n",
       "0  Manali        4.5            2-4       October-June   \n",
       "1  Manali        4.5            2-4       October-June   \n",
       "2  Manali        4.5            2-4       October-June   \n",
       "3  Manali        4.5            2-4       October-June   \n",
       "4  Manali        4.5            2-4       October-June   \n",
       "\n",
       "                                           City_desc  \\\n",
       "0  [' One of the most popular hill stations in Hi...   \n",
       "1  [' One of the most popular hill stations in Hi...   \n",
       "2  [' One of the most popular hill stations in Hi...   \n",
       "3  [' One of the most popular hill stations in Hi...   \n",
       "4  [' One of the most popular hill stations in Hi...   \n",
       "\n",
       "                                            Place  Ratings_y  \\\n",
       "0         1. Capture the Sceneries of Old Manali         3.9   \n",
       "1   2. Engage in the Adventures of Solang Valley         4.6   \n",
       "2                            3. Jogini Waterfall         4.6   \n",
       "3                              4. Hadimba Temple         4.4   \n",
       "4                                5. Rohtang Pass         4.4   \n",
       "\n",
       "                    Distance  \\\n",
       "0    2 km  from city center    \n",
       "1    8 km  from city center    \n",
       "2    4 km  from city center    \n",
       "3    1 km  from city center    \n",
       "4   16 km  from city center    \n",
       "\n",
       "                                          Place_desc  \n",
       "0   On the other side of the Manalsu river is a p...  \n",
       "1   Solang Valley is one of the most popular tour...  \n",
       "2   Jogini Waterfall is located about 3 kilometre...  \n",
       "3   Hadimba temple, away from the hustle and bust...  \n",
       "4   Rohtang pass is the stretch which connects Ma...  "
      ]
     },
     "execution_count": 11,
     "metadata": {},
     "output_type": "execute_result"
    }
   ],
   "source": [
    "df.head()"
   ]
  },
  {
   "cell_type": "code",
   "execution_count": 12,
   "id": "7fc093b8",
   "metadata": {},
   "outputs": [
    {
     "data": {
      "text/plain": [
       "(2989, 9)"
      ]
     },
     "execution_count": 12,
     "metadata": {},
     "output_type": "execute_result"
    }
   ],
   "source": [
    "df.shape"
   ]
  },
  {
   "cell_type": "code",
   "execution_count": 13,
   "id": "a7516945",
   "metadata": {},
   "outputs": [
    {
     "data": {
      "text/plain": [
       "City                     0\n",
       "Ratings_x                0\n",
       "Ideal_duration           0\n",
       "Best_time_to_visit    1879\n",
       "City_desc               24\n",
       "Place                    0\n",
       "Ratings_y             1320\n",
       "Distance                16\n",
       "Place_desc               0\n",
       "dtype: int64"
      ]
     },
     "execution_count": 13,
     "metadata": {},
     "output_type": "execute_result"
    }
   ],
   "source": [
    "df.isnull().sum()"
   ]
  },
  {
   "cell_type": "code",
   "execution_count": 14,
   "id": "508d6956",
   "metadata": {},
   "outputs": [
    {
     "name": "stderr",
     "output_type": "stream",
     "text": [
      "C:\\Users\\LENOVO\\AppData\\Local\\Temp\\ipykernel_2812\\713242487.py:1: FutureWarning: A value is trying to be set on a copy of a DataFrame or Series through chained assignment using an inplace method.\n",
      "The behavior will change in pandas 3.0. This inplace method will never work because the intermediate object on which we are setting values always behaves as a copy.\n",
      "\n",
      "For example, when doing 'df[col].method(value, inplace=True)', try using 'df.method({col: value}, inplace=True)' or df[col] = df[col].method(value) instead, to perform the operation inplace on the original object.\n",
      "\n",
      "\n",
      "  df['Best_time_to_visit'].ffill(inplace=True)\n"
     ]
    }
   ],
   "source": [
    "df['Best_time_to_visit'].ffill(inplace=True)"
   ]
  },
  {
   "cell_type": "code",
   "execution_count": 15,
   "id": "2315286e",
   "metadata": {},
   "outputs": [],
   "source": [
    "df['Best_time_to_visit'].bfill(inplace=True)"
   ]
  },
  {
   "cell_type": "code",
   "execution_count": 16,
   "id": "80483bf7",
   "metadata": {},
   "outputs": [
    {
     "data": {
      "text/plain": [
       "City                     0\n",
       "Ratings_x                0\n",
       "Ideal_duration           0\n",
       "Best_time_to_visit       0\n",
       "City_desc               24\n",
       "Place                    0\n",
       "Ratings_y             1320\n",
       "Distance                16\n",
       "Place_desc               0\n",
       "dtype: int64"
      ]
     },
     "execution_count": 16,
     "metadata": {},
     "output_type": "execute_result"
    }
   ],
   "source": [
    "df.isnull().sum()"
   ]
  },
  {
   "cell_type": "code",
   "execution_count": 17,
   "id": "7e643d8a",
   "metadata": {},
   "outputs": [
    {
     "name": "stderr",
     "output_type": "stream",
     "text": [
      "C:\\Users\\LENOVO\\AppData\\Local\\Temp\\ipykernel_2812\\3303120078.py:1: FutureWarning: A value is trying to be set on a copy of a DataFrame or Series through chained assignment using an inplace method.\n",
      "The behavior will change in pandas 3.0. This inplace method will never work because the intermediate object on which we are setting values always behaves as a copy.\n",
      "\n",
      "For example, when doing 'df[col].method(value, inplace=True)', try using 'df.method({col: value}, inplace=True)' or df[col] = df[col].method(value) instead, to perform the operation inplace on the original object.\n",
      "\n",
      "\n",
      "  df['City_desc'].ffill(inplace=True)\n"
     ]
    }
   ],
   "source": [
    "df['City_desc'].ffill(inplace=True)"
   ]
  },
  {
   "cell_type": "code",
   "execution_count": 18,
   "id": "631f9bab",
   "metadata": {},
   "outputs": [
    {
     "name": "stderr",
     "output_type": "stream",
     "text": [
      "C:\\Users\\LENOVO\\AppData\\Local\\Temp\\ipykernel_2812\\3098604474.py:1: FutureWarning: A value is trying to be set on a copy of a DataFrame or Series through chained assignment using an inplace method.\n",
      "The behavior will change in pandas 3.0. This inplace method will never work because the intermediate object on which we are setting values always behaves as a copy.\n",
      "\n",
      "For example, when doing 'df[col].method(value, inplace=True)', try using 'df.method({col: value}, inplace=True)' or df[col] = df[col].method(value) instead, to perform the operation inplace on the original object.\n",
      "\n",
      "\n",
      "  df['Distance'].ffill(inplace=True)\n"
     ]
    }
   ],
   "source": [
    "df['Distance'].ffill(inplace=True)"
   ]
  },
  {
   "cell_type": "code",
   "execution_count": 19,
   "id": "86e682a8",
   "metadata": {},
   "outputs": [
    {
     "data": {
      "text/plain": [
       "City                     0\n",
       "Ratings_x                0\n",
       "Ideal_duration           0\n",
       "Best_time_to_visit       0\n",
       "City_desc                0\n",
       "Place                    0\n",
       "Ratings_y             1320\n",
       "Distance                 0\n",
       "Place_desc               0\n",
       "dtype: int64"
      ]
     },
     "execution_count": 19,
     "metadata": {},
     "output_type": "execute_result"
    }
   ],
   "source": [
    "df.isnull().sum()"
   ]
  },
  {
   "cell_type": "code",
   "execution_count": 20,
   "id": "0f7da6da",
   "metadata": {},
   "outputs": [
    {
     "data": {
      "text/html": [
       "<div>\n",
       "<style scoped>\n",
       "    .dataframe tbody tr th:only-of-type {\n",
       "        vertical-align: middle;\n",
       "    }\n",
       "\n",
       "    .dataframe tbody tr th {\n",
       "        vertical-align: top;\n",
       "    }\n",
       "\n",
       "    .dataframe thead th {\n",
       "        text-align: right;\n",
       "    }\n",
       "</style>\n",
       "<table border=\"1\" class=\"dataframe\">\n",
       "  <thead>\n",
       "    <tr style=\"text-align: right;\">\n",
       "      <th></th>\n",
       "      <th>City</th>\n",
       "      <th>Ratings_x</th>\n",
       "      <th>Ideal_duration</th>\n",
       "      <th>Best_time_to_visit</th>\n",
       "      <th>City_desc</th>\n",
       "      <th>Place</th>\n",
       "      <th>Ratings_y</th>\n",
       "      <th>Distance</th>\n",
       "      <th>Place_desc</th>\n",
       "    </tr>\n",
       "  </thead>\n",
       "  <tbody>\n",
       "    <tr>\n",
       "      <th>0</th>\n",
       "      <td>Manali</td>\n",
       "      <td>4.5</td>\n",
       "      <td>2-4</td>\n",
       "      <td>October-June</td>\n",
       "      <td>[' One of the most popular hill stations in Hi...</td>\n",
       "      <td>1. Capture the Sceneries of Old Manali</td>\n",
       "      <td>3.9</td>\n",
       "      <td>2 km  from city center</td>\n",
       "      <td>On the other side of the Manalsu river is a p...</td>\n",
       "    </tr>\n",
       "    <tr>\n",
       "      <th>1</th>\n",
       "      <td>Manali</td>\n",
       "      <td>4.5</td>\n",
       "      <td>2-4</td>\n",
       "      <td>October-June</td>\n",
       "      <td>[' One of the most popular hill stations in Hi...</td>\n",
       "      <td>2. Engage in the Adventures of Solang Valley</td>\n",
       "      <td>4.6</td>\n",
       "      <td>8 km  from city center</td>\n",
       "      <td>Solang Valley is one of the most popular tour...</td>\n",
       "    </tr>\n",
       "    <tr>\n",
       "      <th>2</th>\n",
       "      <td>Manali</td>\n",
       "      <td>4.5</td>\n",
       "      <td>2-4</td>\n",
       "      <td>October-June</td>\n",
       "      <td>[' One of the most popular hill stations in Hi...</td>\n",
       "      <td>3. Jogini Waterfall</td>\n",
       "      <td>4.6</td>\n",
       "      <td>4 km  from city center</td>\n",
       "      <td>Jogini Waterfall is located about 3 kilometre...</td>\n",
       "    </tr>\n",
       "    <tr>\n",
       "      <th>3</th>\n",
       "      <td>Manali</td>\n",
       "      <td>4.5</td>\n",
       "      <td>2-4</td>\n",
       "      <td>October-June</td>\n",
       "      <td>[' One of the most popular hill stations in Hi...</td>\n",
       "      <td>4. Hadimba Temple</td>\n",
       "      <td>4.4</td>\n",
       "      <td>1 km  from city center</td>\n",
       "      <td>Hadimba temple, away from the hustle and bust...</td>\n",
       "    </tr>\n",
       "    <tr>\n",
       "      <th>4</th>\n",
       "      <td>Manali</td>\n",
       "      <td>4.5</td>\n",
       "      <td>2-4</td>\n",
       "      <td>October-June</td>\n",
       "      <td>[' One of the most popular hill stations in Hi...</td>\n",
       "      <td>5. Rohtang Pass</td>\n",
       "      <td>4.4</td>\n",
       "      <td>16 km  from city center</td>\n",
       "      <td>Rohtang pass is the stretch which connects Ma...</td>\n",
       "    </tr>\n",
       "  </tbody>\n",
       "</table>\n",
       "</div>"
      ],
      "text/plain": [
       "     City  Ratings_x Ideal_duration Best_time_to_visit  \\\n",
       "0  Manali        4.5            2-4       October-June   \n",
       "1  Manali        4.5            2-4       October-June   \n",
       "2  Manali        4.5            2-4       October-June   \n",
       "3  Manali        4.5            2-4       October-June   \n",
       "4  Manali        4.5            2-4       October-June   \n",
       "\n",
       "                                           City_desc  \\\n",
       "0  [' One of the most popular hill stations in Hi...   \n",
       "1  [' One of the most popular hill stations in Hi...   \n",
       "2  [' One of the most popular hill stations in Hi...   \n",
       "3  [' One of the most popular hill stations in Hi...   \n",
       "4  [' One of the most popular hill stations in Hi...   \n",
       "\n",
       "                                            Place  Ratings_y  \\\n",
       "0         1. Capture the Sceneries of Old Manali         3.9   \n",
       "1   2. Engage in the Adventures of Solang Valley         4.6   \n",
       "2                            3. Jogini Waterfall         4.6   \n",
       "3                              4. Hadimba Temple         4.4   \n",
       "4                                5. Rohtang Pass         4.4   \n",
       "\n",
       "                    Distance  \\\n",
       "0    2 km  from city center    \n",
       "1    8 km  from city center    \n",
       "2    4 km  from city center    \n",
       "3    1 km  from city center    \n",
       "4   16 km  from city center    \n",
       "\n",
       "                                          Place_desc  \n",
       "0   On the other side of the Manalsu river is a p...  \n",
       "1   Solang Valley is one of the most popular tour...  \n",
       "2   Jogini Waterfall is located about 3 kilometre...  \n",
       "3   Hadimba temple, away from the hustle and bust...  \n",
       "4   Rohtang pass is the stretch which connects Ma...  "
      ]
     },
     "execution_count": 20,
     "metadata": {},
     "output_type": "execute_result"
    }
   ],
   "source": [
    "df.head()"
   ]
  },
  {
   "cell_type": "code",
   "execution_count": 21,
   "id": "fd0a5cae",
   "metadata": {},
   "outputs": [
    {
     "name": "stdout",
     "output_type": "stream",
     "text": [
      "Merged df created and recommender loaded. Call recommend(<CityName>, topn=5).\n"
     ]
    }
   ],
   "source": [
    "import difflib\n",
    "from sklearn.feature_extraction.text import TfidfVectorizer\n",
    "from sklearn.metrics.pairwise import cosine_similarity\n",
    "\n",
    "# helper to find column by common variants\n",
    "def find_col_local(df, candidates):\n",
    "    for c in candidates:\n",
    "        if c in df.columns:\n",
    "            return c\n",
    "    lowmap = {col.lower().replace(' ', '_'): col for col in df.columns}\n",
    "    for c in candidates:\n",
    "        key = c.lower().replace(' ', '_')\n",
    "        if key in lowmap:\n",
    "            return lowmap[key]\n",
    "    m = difflib.get_close_matches(candidates[0], list(df.columns), n=1, cutoff=0.6)\n",
    "    return m[0] if m else None\n",
    "\n",
    "city_col = find_col_local(df, ['City'])\n",
    "dur_col = find_col_local(df, ['Ideal_duration', 'Ideal Duration', 'Ideal_Duration'])\n",
    "time_col = find_col_local(df, ['Best_time_to_visit', 'Best_Time_to_Visit', 'Best time to visit'])\n",
    "\n",
    "if not (city_col and dur_col and time_col):\n",
    "    raise KeyError(f\"Required columns not found. Available columns: {list(df.columns)}\")\n",
    "\n",
    "city_df = df[[city_col, dur_col, time_col]].drop_duplicates(subset=[city_col]).fillna('').reset_index(drop=True)\n",
    "city_df['profile'] = city_df[dur_col].astype(str) + ' | ' + city_df[time_col].astype(str)\n",
    "\n",
    "vectorizer = TfidfVectorizer(stop_words='english')\n",
    "tfidf = vectorizer.fit_transform(city_df['profile'])\n",
    "sim_matrix = cosine_similarity(tfidf, tfidf)\n",
    "\n",
    "city_to_idx = {name: i for i, name in enumerate(city_df[city_col].astype(str))}\n",
    "\n",
    "def recommend(city_name, topn=5):\n",
    "    if city_name not in city_to_idx:\n",
    "        m = difflib.get_close_matches(city_name, list(city_to_idx.keys()), n=1, cutoff=0.6)\n",
    "        if not m:\n",
    "            raise ValueError(f\"City '{city_name}' not found and no close match available.\")\n",
    "        city_name = m[0]\n",
    "    idx = city_to_idx[city_name]\n",
    "    scores = list(enumerate(sim_matrix[idx]))\n",
    "    scores = sorted(scores, key=lambda x: x[1], reverse=True)\n",
    "    results = [(city_df.loc[i, city_col], city_df.loc[i, dur_col], city_df.loc[i, time_col], float(score))\n",
    "               for i, score in scores if i != idx][:topn]\n",
    "    return pd.DataFrame(results, columns=[city_col, dur_col, time_col, 'score'])\n",
    "\n",
    "print('Merged df created and recommender loaded. Call recommend(<CityName>, topn=5).')"
   ]
  },
  {
   "cell_type": "code",
   "execution_count": 22,
   "id": "ef4da6d5",
   "metadata": {},
   "outputs": [
    {
     "name": "stdout",
     "output_type": "stream",
     "text": [
      "\n",
      "Recommendations for: Manali\n",
      "         City Ideal_duration Best_time_to_visit  score\n",
      "0  Mcleodganj            2-3       October-June    1.0\n",
      "1        Ooty            2-3       October-June    1.0\n",
      "2  Kodaikanal            1-2       October-June    1.0\n",
      "3   Dalhousie            2-3       October-June    1.0\n",
      "4   Pachmarhi            2-3       October-June    1.0\n",
      "\n",
      "Recommendations for: Goa\n",
      "         City Ideal_duration Best_time_to_visit     score\n",
      "0      Jaipur            2-3     November-March  0.741400\n",
      "1    Lonavala            1-2     November-March  0.741400\n",
      "2   Mussoorie            2-3     November-March  0.741400\n",
      "3    Alleppey            1-2          -February  0.492268\n",
      "4  Darjeeling            2-3          -February  0.492268\n",
      "\n",
      "Recommendations for: Leh Ladakh\n",
      "          City Ideal_duration  Best_time_to_visit  score\n",
      "0       Manali            2-4        October-June    0.0\n",
      "1        Coorg            2-3      September-June    0.0\n",
      "2      Andaman            4-6       October-March    0.0\n",
      "3  Lakshadweep            4-6  September-February    0.0\n",
      "4          Goa            3-7   November-February    0.0\n"
     ]
    }
   ],
   "source": [
    "examples = ['Manali', 'Goa', 'Leh Ladakh']\n",
    "for city in examples:\n",
    "    print('\\nRecommendations for:', city)\n",
    "    try:\n",
    "        print(recommend(city, topn=5))\n",
    "    except Exception as e:\n",
    "        print('Error:', e)"
   ]
  },
  {
   "cell_type": "code",
   "execution_count": 25,
   "id": "331f2f72",
   "metadata": {},
   "outputs": [
    {
     "name": "stdout",
     "output_type": "stream",
     "text": [
      "Saved model.pkl with keys: ['vectorizer', 'tfidf', 'sim_matrix', 'city_df', 'city_col', 'dur_col', 'time_col', 'city_to_idx']\n"
     ]
    }
   ],
   "source": [
    "import pickle\n",
    "\n",
    "# Build a pickleable artifacts dict for deployment.\n",
    "# This packages the vectorizer, tfidf matrix, similarity matrix,\n",
    "# the city dataframe and the index mapping. Ensure you run the\n",
    "# previous cells (which create these variables) before executing.\n",
    "artifacts = {\n",
    "    'vectorizer': vectorizer,\n",
    "    'tfidf': tfidf,\n",
    "    'sim_matrix': sim_matrix,\n",
    "    'city_df': city_df,\n",
    "    'city_col': city_col,\n",
    "    'dur_col': dur_col,\n",
    "    'time_col': time_col,\n",
    "    'city_to_idx': city_to_idx,\n",
    "}\n",
    "\n",
    "with open('model.pkl', 'wb') as f:\n",
    "    pickle.dump(artifacts, f)\n",
    "\n",
    "print('Saved model.pkl with keys:', list(artifacts.keys()))"
   ]
  }
 ],
 "metadata": {
  "kernelspec": {
   "display_name": "Python 3",
   "language": "python",
   "name": "python3"
  },
  "language_info": {
   "codemirror_mode": {
    "name": "ipython",
    "version": 3
   },
   "file_extension": ".py",
   "mimetype": "text/x-python",
   "name": "python",
   "nbconvert_exporter": "python",
   "pygments_lexer": "ipython3",
   "version": "3.13.5"
  }
 },
 "nbformat": 4,
 "nbformat_minor": 5
}
